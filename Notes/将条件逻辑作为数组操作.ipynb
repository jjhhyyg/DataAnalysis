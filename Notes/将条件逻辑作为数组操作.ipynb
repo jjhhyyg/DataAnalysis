{
 "cells": [
  {
   "cell_type": "markdown",
   "metadata": {
    "collapsed": true,
    "pycharm": {
     "name": "#%% md\n"
    }
   },
   "source": [
    "numpy.where方法\n",
    "+ 三元表达式x if condition else y的向量化版本"
   ]
  },
  {
   "cell_type": "code",
   "execution_count": 2,
   "outputs": [],
   "source": [
    "import numpy as np"
   ],
   "metadata": {
    "collapsed": false,
    "pycharm": {
     "name": "#%%\n"
    }
   }
  },
  {
   "cell_type": "code",
   "execution_count": 3,
   "outputs": [],
   "source": [
    "xarr = np.array([1.1, 1.2, 1.3, 1.4, 1.5])\n",
    "yarr = np.array([2.1, 2.2, 2.3, 2.4, 2.5])\n",
    "cond = np.array([True, False, True, True, False])"
   ],
   "metadata": {
    "collapsed": false,
    "pycharm": {
     "name": "#%%\n"
    }
   }
  },
  {
   "cell_type": "markdown",
   "source": [
    "假设cond中的元素为True时，选择xarr中的元素，为False时选择yarr中的元素"
   ],
   "metadata": {
    "collapsed": false,
    "pycharm": {
     "name": "#%% md\n"
    }
   }
  },
  {
   "cell_type": "code",
   "execution_count": 4,
   "outputs": [
    {
     "name": "stdout",
     "output_type": "stream",
     "text": [
      "[1.1, 2.2, 1.3, 1.4, 2.5]\n"
     ]
    }
   ],
   "source": [
    "result = [(x if c else y)\n",
    "          for x,y,c in zip(xarr, yarr, cond)]\n",
    "print(result)"
   ],
   "metadata": {
    "collapsed": false,
    "pycharm": {
     "name": "#%%\n"
    }
   }
  },
  {
   "cell_type": "markdown",
   "source": [
    "上述方法会很慢，而且当数组是多维时无法奏效"
   ],
   "metadata": {
    "collapsed": false,
    "pycharm": {
     "name": "#%% md\n"
    }
   }
  },
  {
   "cell_type": "code",
   "execution_count": 26,
   "outputs": [
    {
     "name": "stdout",
     "output_type": "stream",
     "text": [
      "[[-0.25647521 -0.02796995  0.92196054  0.61724743]\n",
      " [ 1.19661376 -0.92676618 -1.34083646 -0.3721946 ]\n",
      " [ 0.20725042  0.76725117  0.88665815 -1.26774409]\n",
      " [ 1.37922824  0.53315327 -0.62527415  0.32462448]]\n",
      "[[False False  True  True]\n",
      " [ True False False False]\n",
      " [ True  True  True False]\n",
      " [ True  True False  True]]\n"
     ]
    }
   ],
   "source": [
    "# 使用np.where方法\n",
    "arr = np.random.randn(4,4)\n",
    "print(arr)\n",
    "print(arr>0)"
   ],
   "metadata": {
    "collapsed": false,
    "pycharm": {
     "name": "#%%\n"
    }
   }
  },
  {
   "cell_type": "code",
   "execution_count": 27,
   "outputs": [
    {
     "name": "stdout",
     "output_type": "stream",
     "text": [
      "[[-2 -2  2  2]\n",
      " [ 2 -2 -2 -2]\n",
      " [ 2  2  2 -2]\n",
      " [ 2  2 -2  2]]\n"
     ]
    }
   ],
   "source": [
    "# 大于0的元素设置为2，否则设置为-2\n",
    "print(np.where(arr>0, 2, -2))"
   ],
   "metadata": {
    "collapsed": false,
    "pycharm": {
     "name": "#%%\n"
    }
   }
  },
  {
   "cell_type": "markdown",
   "source": [
    "传递给where的数组可以是同等大小的数组，也可以是标量"
   ],
   "metadata": {
    "collapsed": false
   }
  },
  {
   "cell_type": "code",
   "execution_count": 28,
   "outputs": [
    {
     "name": "stdout",
     "output_type": "stream",
     "text": [
      "[[-0.25647521 -0.02796995  2.          2.        ]\n",
      " [ 2.         -0.92676618 -1.34083646 -0.3721946 ]\n",
      " [ 2.          2.          2.         -1.26774409]\n",
      " [ 2.          2.         -0.62527415  2.        ]]\n"
     ]
    }
   ],
   "source": [
    "# 仅将正值设为2\n",
    "print(np.where(arr>0,2,arr))"
   ],
   "metadata": {
    "collapsed": false,
    "pycharm": {
     "name": "#%%\n"
    }
   }
  }
 ],
 "metadata": {
  "kernelspec": {
   "display_name": "Python 3",
   "language": "python",
   "name": "python3"
  },
  "language_info": {
   "codemirror_mode": {
    "name": "ipython",
    "version": 2
   },
   "file_extension": ".py",
   "mimetype": "text/x-python",
   "name": "python",
   "nbconvert_exporter": "python",
   "pygments_lexer": "ipython2",
   "version": "2.7.6"
  }
 },
 "nbformat": 4,
 "nbformat_minor": 0
}