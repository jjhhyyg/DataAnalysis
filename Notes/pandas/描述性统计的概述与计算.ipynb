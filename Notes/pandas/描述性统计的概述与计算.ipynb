{
 "cells": [
  {
   "cell_type": "code",
   "metadata": {
    "collapsed": true,
    "pycharm": {
     "name": "#%%\n"
    }
   },
   "source": [
    "import numpy as np\n",
    "import pandas as pd"
   ],
   "execution_count": 1,
   "outputs": []
  },
  {
   "cell_type": "code",
   "execution_count": 2,
   "outputs": [
    {
     "data": {
      "text/plain": "    one  two\na  1.40  NaN\nb  7.10 -4.5\nc   NaN  NaN\nd  0.75 -1.3",
      "text/html": "<div>\n<style scoped>\n    .dataframe tbody tr th:only-of-type {\n        vertical-align: middle;\n    }\n\n    .dataframe tbody tr th {\n        vertical-align: top;\n    }\n\n    .dataframe thead th {\n        text-align: right;\n    }\n</style>\n<table border=\"1\" class=\"dataframe\">\n  <thead>\n    <tr style=\"text-align: right;\">\n      <th></th>\n      <th>one</th>\n      <th>two</th>\n    </tr>\n  </thead>\n  <tbody>\n    <tr>\n      <th>a</th>\n      <td>1.40</td>\n      <td>NaN</td>\n    </tr>\n    <tr>\n      <th>b</th>\n      <td>7.10</td>\n      <td>-4.5</td>\n    </tr>\n    <tr>\n      <th>c</th>\n      <td>NaN</td>\n      <td>NaN</td>\n    </tr>\n    <tr>\n      <th>d</th>\n      <td>0.75</td>\n      <td>-1.3</td>\n    </tr>\n  </tbody>\n</table>\n</div>"
     },
     "execution_count": 2,
     "metadata": {},
     "output_type": "execute_result"
    }
   ],
   "source": [
    "df = pd.DataFrame([[1.4, np.nan], [7.1, -4.5], [np.nan, np.nan], [0.75, -1.3]],\n",
    "                  index=['a', 'b', 'c', 'd'],\n",
    "                  columns=['one', 'two'])\n",
    "df"
   ],
   "metadata": {
    "collapsed": false,
    "pycharm": {
     "name": "#%%\n"
    }
   }
  },
  {
   "cell_type": "markdown",
   "source": [
    "### 求和"
   ],
   "metadata": {
    "collapsed": false,
    "pycharm": {
     "name": "#%% md\n"
    }
   }
  },
  {
   "cell_type": "markdown",
   "source": [
    "<font color=\"red\">NaN值会被忽略，要让NaN值不被忽略，将skipna参数置为False</font>"
   ],
   "metadata": {
    "collapsed": false
   }
  },
  {
   "cell_type": "code",
   "execution_count": 4,
   "outputs": [
    {
     "data": {
      "text/plain": "one    9.25\ntwo   -5.80\ndtype: float64"
     },
     "execution_count": 4,
     "metadata": {},
     "output_type": "execute_result"
    }
   ],
   "source": [
    "df.sum()"
   ],
   "metadata": {
    "collapsed": false,
    "pycharm": {
     "name": "#%%\n"
    }
   }
  },
  {
   "cell_type": "code",
   "execution_count": 7,
   "outputs": [
    {
     "data": {
      "text/plain": "a    1.40\nb    2.60\nc    0.00\nd   -0.55\ndtype: float64"
     },
     "execution_count": 7,
     "metadata": {},
     "output_type": "execute_result"
    }
   ],
   "source": [
    "df.sum(axis=1)"
   ],
   "metadata": {
    "collapsed": false,
    "pycharm": {
     "name": "#%%\n"
    }
   }
  },
  {
   "cell_type": "code",
   "execution_count": 8,
   "outputs": [
    {
     "data": {
      "text/plain": "a     NaN\nb    2.60\nc     NaN\nd   -0.55\ndtype: float64"
     },
     "execution_count": 8,
     "metadata": {},
     "output_type": "execute_result"
    }
   ],
   "source": [
    "df.sum(axis=1,skipna=False)"
   ],
   "metadata": {
    "collapsed": false,
    "pycharm": {
     "name": "#%%\n"
    }
   }
  },
  {
   "cell_type": "markdown",
   "source": [
    "### 求均值"
   ],
   "metadata": {
    "collapsed": false,
    "pycharm": {
     "name": "#%% md\n"
    }
   }
  },
  {
   "cell_type": "code",
   "execution_count": 9,
   "outputs": [
    {
     "data": {
      "text/plain": "a    1.400\nb    1.300\nc      NaN\nd   -0.275\ndtype: float64"
     },
     "execution_count": 9,
     "metadata": {},
     "output_type": "execute_result"
    }
   ],
   "source": [
    "df.mean(axis=1)"
   ],
   "metadata": {
    "collapsed": false,
    "pycharm": {
     "name": "#%%\n"
    }
   }
  },
  {
   "cell_type": "markdown",
   "source": [
    "### 返回最小值/最大值"
   ],
   "metadata": {
    "collapsed": false,
    "pycharm": {
     "name": "#%% md\n"
    }
   }
  },
  {
   "cell_type": "code",
   "execution_count": 10,
   "outputs": [
    {
     "data": {
      "text/plain": "one    0.75\ntwo   -4.50\ndtype: float64"
     },
     "execution_count": 10,
     "metadata": {},
     "output_type": "execute_result"
    }
   ],
   "source": [
    "df.min()"
   ],
   "metadata": {
    "collapsed": false,
    "pycharm": {
     "name": "#%%\n"
    }
   }
  },
  {
   "cell_type": "code",
   "execution_count": 11,
   "outputs": [
    {
     "data": {
      "text/plain": "one    7.1\ntwo   -1.3\ndtype: float64"
     },
     "execution_count": 11,
     "metadata": {},
     "output_type": "execute_result"
    }
   ],
   "source": [
    "df.max()"
   ],
   "metadata": {
    "collapsed": false,
    "pycharm": {
     "name": "#%%\n"
    }
   }
  },
  {
   "cell_type": "markdown",
   "source": [
    "### 返回最小值/最大值的索引值"
   ],
   "metadata": {
    "collapsed": false,
    "pycharm": {
     "name": "#%% md\n"
    }
   }
  },
  {
   "cell_type": "code",
   "execution_count": 12,
   "outputs": [
    {
     "data": {
      "text/plain": "one    d\ntwo    b\ndtype: object"
     },
     "execution_count": 12,
     "metadata": {},
     "output_type": "execute_result"
    }
   ],
   "source": [
    "df.idxmin()"
   ],
   "metadata": {
    "collapsed": false,
    "pycharm": {
     "name": "#%%\n"
    }
   }
  },
  {
   "cell_type": "code",
   "execution_count": 15,
   "outputs": [
    {
     "data": {
      "text/plain": "one    b\ntwo    d\ndtype: object"
     },
     "execution_count": 15,
     "metadata": {},
     "output_type": "execute_result"
    }
   ],
   "source": [
    "df.idxmax()"
   ],
   "metadata": {
    "collapsed": false,
    "pycharm": {
     "name": "#%%\n"
    }
   }
  },
  {
   "cell_type": "markdown",
   "source": [
    "### 累积型方法"
   ],
   "metadata": {
    "collapsed": false,
    "pycharm": {
     "name": "#%% md\n"
    }
   }
  },
  {
   "cell_type": "code",
   "execution_count": 21,
   "outputs": [
    {
     "data": {
      "text/plain": "    one  two\na  1.40  NaN\nb  8.50 -4.5\nc   NaN  NaN\nd  9.25 -5.8",
      "text/html": "<div>\n<style scoped>\n    .dataframe tbody tr th:only-of-type {\n        vertical-align: middle;\n    }\n\n    .dataframe tbody tr th {\n        vertical-align: top;\n    }\n\n    .dataframe thead th {\n        text-align: right;\n    }\n</style>\n<table border=\"1\" class=\"dataframe\">\n  <thead>\n    <tr style=\"text-align: right;\">\n      <th></th>\n      <th>one</th>\n      <th>two</th>\n    </tr>\n  </thead>\n  <tbody>\n    <tr>\n      <th>a</th>\n      <td>1.40</td>\n      <td>NaN</td>\n    </tr>\n    <tr>\n      <th>b</th>\n      <td>8.50</td>\n      <td>-4.5</td>\n    </tr>\n    <tr>\n      <th>c</th>\n      <td>NaN</td>\n      <td>NaN</td>\n    </tr>\n    <tr>\n      <th>d</th>\n      <td>9.25</td>\n      <td>-5.8</td>\n    </tr>\n  </tbody>\n</table>\n</div>"
     },
     "execution_count": 21,
     "metadata": {},
     "output_type": "execute_result"
    }
   ],
   "source": [
    "# 对每一列进行累加\n",
    "df.cumsum()"
   ],
   "metadata": {
    "collapsed": false,
    "pycharm": {
     "name": "#%%\n"
    }
   }
  },
  {
   "cell_type": "code",
   "execution_count": 24,
   "outputs": [
    {
     "data": {
      "text/plain": "     one   two\na  1.400   NaN\nb  9.940 -4.50\nc    NaN   NaN\nd  7.455  5.85",
      "text/html": "<div>\n<style scoped>\n    .dataframe tbody tr th:only-of-type {\n        vertical-align: middle;\n    }\n\n    .dataframe tbody tr th {\n        vertical-align: top;\n    }\n\n    .dataframe thead th {\n        text-align: right;\n    }\n</style>\n<table border=\"1\" class=\"dataframe\">\n  <thead>\n    <tr style=\"text-align: right;\">\n      <th></th>\n      <th>one</th>\n      <th>two</th>\n    </tr>\n  </thead>\n  <tbody>\n    <tr>\n      <th>a</th>\n      <td>1.400</td>\n      <td>NaN</td>\n    </tr>\n    <tr>\n      <th>b</th>\n      <td>9.940</td>\n      <td>-4.50</td>\n    </tr>\n    <tr>\n      <th>c</th>\n      <td>NaN</td>\n      <td>NaN</td>\n    </tr>\n    <tr>\n      <th>d</th>\n      <td>7.455</td>\n      <td>5.85</td>\n    </tr>\n  </tbody>\n</table>\n</div>"
     },
     "execution_count": 24,
     "metadata": {},
     "output_type": "execute_result"
    }
   ],
   "source": [
    "# 累计乘\n",
    "df.cumprod()"
   ],
   "metadata": {
    "collapsed": false,
    "pycharm": {
     "name": "#%%\n"
    }
   }
  },
  {
   "cell_type": "markdown",
   "source": [
    "### describe产生多个汇总统计\n",
    "+ count: 非NA值的个数\n",
    "+ mean: 均值\n",
    "+ std: 值的样本标准差，[样本标准差的意义是什么](https://www.zhihu.com/question/27276029/answer/202287342)\n",
    "+ 25%和75%为四分位数，50%为中位数，[四分位数的位置计算原理](https://www.zhihu.com/question/54858749/answer/202280013)"
   ],
   "metadata": {
    "collapsed": false,
    "pycharm": {
     "name": "#%% md\n"
    }
   }
  },
  {
   "cell_type": "code",
   "execution_count": 25,
   "outputs": [
    {
     "data": {
      "text/plain": "            one       two\ncount  3.000000  2.000000\nmean   3.083333 -2.900000\nstd    3.493685  2.262742\nmin    0.750000 -4.500000\n25%    1.075000 -3.700000\n50%    1.400000 -2.900000\n75%    4.250000 -2.100000\nmax    7.100000 -1.300000",
      "text/html": "<div>\n<style scoped>\n    .dataframe tbody tr th:only-of-type {\n        vertical-align: middle;\n    }\n\n    .dataframe tbody tr th {\n        vertical-align: top;\n    }\n\n    .dataframe thead th {\n        text-align: right;\n    }\n</style>\n<table border=\"1\" class=\"dataframe\">\n  <thead>\n    <tr style=\"text-align: right;\">\n      <th></th>\n      <th>one</th>\n      <th>two</th>\n    </tr>\n  </thead>\n  <tbody>\n    <tr>\n      <th>count</th>\n      <td>3.000000</td>\n      <td>2.000000</td>\n    </tr>\n    <tr>\n      <th>mean</th>\n      <td>3.083333</td>\n      <td>-2.900000</td>\n    </tr>\n    <tr>\n      <th>std</th>\n      <td>3.493685</td>\n      <td>2.262742</td>\n    </tr>\n    <tr>\n      <th>min</th>\n      <td>0.750000</td>\n      <td>-4.500000</td>\n    </tr>\n    <tr>\n      <th>25%</th>\n      <td>1.075000</td>\n      <td>-3.700000</td>\n    </tr>\n    <tr>\n      <th>50%</th>\n      <td>1.400000</td>\n      <td>-2.900000</td>\n    </tr>\n    <tr>\n      <th>75%</th>\n      <td>4.250000</td>\n      <td>-2.100000</td>\n    </tr>\n    <tr>\n      <th>max</th>\n      <td>7.100000</td>\n      <td>-1.300000</td>\n    </tr>\n  </tbody>\n</table>\n</div>"
     },
     "execution_count": 25,
     "metadata": {},
     "output_type": "execute_result"
    }
   ],
   "source": [
    "df.describe()"
   ],
   "metadata": {
    "collapsed": false,
    "pycharm": {
     "name": "#%%\n"
    }
   }
  },
  {
   "cell_type": "markdown",
   "source": [
    "其他描述性统计和汇总统计方法见P159"
   ],
   "metadata": {
    "collapsed": false,
    "pycharm": {
     "name": "#%% md\n"
    }
   }
  },
  {
   "cell_type": "markdown",
   "source": [
    "## 相关性和协方差"
   ],
   "metadata": {
    "collapsed": false,
    "pycharm": {
     "name": "#%% md\n"
    }
   }
  },
  {
   "cell_type": "code",
   "execution_count": 41,
   "outputs": [
    {
     "name": "stdout",
     "output_type": "stream",
     "text": [
      "login success!\n",
      "login respond error_code:0\n",
      "login respond  error_msg:success\n"
     ]
    }
   ],
   "source": [
    "import baostock as bs\n",
    "import datetime as dt\n",
    "\n",
    "lg = bs.login()\n",
    "print('login respond error_code:'+lg.error_code)\n",
    "print('login respond  error_msg:'+lg.error_msg)"
   ],
   "metadata": {
    "collapsed": false,
    "pycharm": {
     "name": "#%%\n"
    }
   }
  },
  {
   "cell_type": "code",
   "execution_count": 39,
   "outputs": [
    {
     "ename": "RemoteDataError",
     "evalue": "Unable to read URL: https://finance.yahoo.com/quote/600797.SS/history?period1=1483214400&period2=1644091199&interval=1d&frequency=1d&filter=history\nResponse Text:\nb'<!DOCTYPE html>\\n<html lang=\"zh\">\\n<head>\\n    <meta charset=\"utf-8\">\\n    <title>Yahoo</title>\\n    <meta name=\"viewport\" content=\"width=device-width,initial-scale=1,minimal-ui\">\\n    <meta http-equiv=\"X-UA-Compatible\" content=\"IE=edge,chrome=1\">\\n    <style>\\nhtml {\\n  height: 100%;\\n}\\nbody {\\n  background: #fafafc url(https://s.yimg.com/nn/img/sad-panda-201402200631.png) 50% 50%;\\n  background-size: cover;\\n  height: 100%;\\n  text-align: center;\\n  font: 300 16px \"helvetica neue\", helvetica, verdana, tahoma, arial, sans-serif;\\n}\\n#message {\\n  text-align: left;\\n  font-weight: 400;\\n  color: #1A1A1A;\\n}\\n#message a {\\n  padding: 0 3px;\\n}\\n#container {\\n  position: absolute;\\n  top: 50%;\\n  left: 50%;\\n  padding: 0 30px;\\n  margin-right: -50%;\\n  transform: translate(-50%, -50%);\\n  max-width: 40em;\\n  _width: 40em;\\n}\\n#container img {\\n  width: 174px;\\n  height: auto;\\n}\\n#switcher a {\\n  font-weight: 400;\\n}\\n#switcher a.active {\\n  color: #000;\\n  text-decoration: none;\\n  cursor: default;\\n}\\n    </style>\\n</head>\\n<body>\\n  <div id=\"container\">\\n    <img src=\"https://s.yimg.com/rz/p/yahoo_homepage_en-US_s_f_p_bestfit_homepage_2x.png\" alt=\"Yahoo Logo\">\\n    <div id=\"switcher\">\\n      <a data-lang=\"en\" class=\"active\" href=\\'#\\'>English</a> |\\n      <a data-lang=\"zh-Hant\" href=\\'#\\'>\\xe7\\xb9\\x81\\xe9\\xab\\x94\\xe4\\xb8\\xad\\xe6\\x96\\x87</a> |\\n      <a data-lang=\"zh-Hans\" href=\\'#\\'>\\xe7\\xae\\x80\\xe4\\xbd\\x93\\xe4\\xb8\\xad\\xe6\\x96\\x87</a>\\n    </div>\\n    <div id=\"message\">\\n      <p>As of November 1st, 2021 Yahoo\\xe2\\x80\\x99s suite of services will no longer be accessible from mainland China. Yahoo products and services remain unaffected in all other global locations. We thank you for your support and readership.</p>\\n      <p>To access your Yahoo Mail account, please click <a href=\"https://mail.yahoo.com/\">here</a> (or copy and paste this URL into your browser: https://mail.yahoo.com/). To access your AOL Mail account, please click <a href=\"https://mail.aol.com/\">here</a> (or copy and paste this URL into your browser: https://mail.aol.com/). To access your Privacy Dashboard to download any data, please click <a href=\"https://legal.yahoo.com/us/en/yahoo/privacy/dashboard/index.html\">here</a>.</p>\\n    </div>\\n  </div>\\n<script>\\nconst Msg = {\\n  \\'en\\': \\'<p>As of November 1st, 2021 Yahoo\\xe2\\x80\\x99s suite of services will no longer be accessible from mainland China. Yahoo products and services remain unaffected in all other global locations. We thank you for your support and readership.</p><p>To access your Yahoo Mail account, please click <a href=\"https://mail.yahoo.com/\">here</a> (or copy and paste this URL into your browser: https://mail.yahoo.com/). To access your AOL Mail account, please click <a href=\"https://mail.aol.com/\">here</a> (or copy and paste this URL into your browser: https://mail.aol.com/). To access your Privacy Dashboard to download any data, please click <a href=\"https://legal.yahoo.com/us/en/yahoo/privacy/dashboard/index.html\">here</a>.</p>\\',\\n  \\'zh-Hant\\': \\'<p>2021 \\xe5\\xb9\\xb4 11 \\xe6\\x9c\\x88 1 \\xe6\\x97\\xa5\\xe8\\xb5\\xb7\\xef\\xbc\\x8c\\xe7\\x94\\xa8\\xe6\\x88\\xb6\\xe5\\xb0\\x87\\xe7\\x84\\xa1\\xe6\\xb3\\x95\\xe5\\xbe\\x9e\\xe4\\xb8\\xad\\xe5\\x9c\\x8b\\xe5\\xa4\\xa7\\xe9\\x99\\xb8\\xe4\\xbd\\xbf\\xe7\\x94\\xa8 Yahoo \\xe7\\x9a\\x84\\xe7\\x94\\xa2\\xe5\\x93\\x81\\xe8\\x88\\x87\\xe6\\x9c\\x8d\\xe5\\x8b\\x99\\xe3\\x80\\x82\\xe9\\x80\\x99\\xe4\\xb8\\xa6\\xe4\\xb8\\x8d\\xe5\\xbd\\xb1\\xe9\\x9f\\xbf Yahoo \\xe5\\x9c\\xa8\\xe5\\x85\\xa8\\xe7\\x90\\x83\\xe5\\x85\\xb6\\xe4\\xbb\\x96\\xe5\\x9c\\xb0\\xe6\\x96\\xb9\\xe7\\x9a\\x84\\xe7\\x94\\xa2\\xe5\\x93\\x81\\xe5\\x8f\\x8a\\xe6\\x9c\\x8d\\xe5\\x8b\\x99\\xe3\\x80\\x82\\xe6\\x88\\x91\\xe5\\x80\\x91\\xe6\\x84\\x9f\\xe8\\xac\\x9d\\xe6\\x82\\xa8\\xe4\\xb8\\x80\\xe7\\x9b\\xb4\\xe4\\xbb\\xa5\\xe4\\xbe\\x86\\xe7\\x9a\\x84\\xe6\\x94\\xaf\\xe6\\x8c\\x81\\xe3\\x80\\x82</p><ul><li>\\xe8\\xab\\x8b<a href=\"https://mail.yahoo.com/\">\\xe6\\x8c\\x89\\xe6\\xad\\xa4</a>\\xe9\\x80\\xa3\\xe6\\x8e\\xa5 Yahoo \\xe9\\x9b\\xbb\\xe5\\xad\\x90\\xe4\\xbf\\xa1\\xe7\\xae\\xb1(\\xe6\\x88\\x96\\xe5\\x89\\xaa\\xe8\\xb2\\xbc\\xe7\\xb6\\xb2\\xe5\\x9d\\x80 https://mail.yahoo.com/ \\xe5\\x88\\xb0\\xe7\\x80\\x8f\\xe8\\xa6\\xbd\\xe5\\x99\\xa8\\xef\\xbc\\x89</li><li>\\xe8\\xab\\x8b<a href=\"https://mail.aol.com/\">\\xe6\\x8c\\x89\\xe6\\xad\\xa4</a>\\xe9\\x80\\xa3\\xe6\\x8e\\xa5 AOL \\xe9\\x9b\\xbb\\xe5\\xad\\x90\\xe4\\xbf\\xa1\\xe7\\xae\\xb1(\\xe6\\x88\\x96\\xe5\\x89\\xaa\\xe8\\xb2\\xbc\\xe7\\xb6\\xb2\\xe5\\x9d\\x80 https://mail.aol.com/ \\xe5\\x88\\xb0\\xe7\\x80\\x8f\\xe8\\xa6\\xbd\\xe5\\x99\\xa8 \\xef\\xbc\\x89</li><li>\\xe8\\xab\\x8b<a href=\"https://legal.yahoo.com/us/en/yahoo/privacy/dashboard/index.html\">\\xe6\\x8c\\x89\\xe6\\xad\\xa4</a>\\xe9\\x80\\xa3\\xe6\\x8e\\xa5\\xe6\\x82\\xa8\\xe7\\x9a\\x84\\xe9\\x9a\\xb1\\xe7\\xa7\\x81\\xe5\\x84\\x80\\xe8\\xa1\\xa8\\xe7\\x89\\x88\\xe6\\x88\\x96\\xe4\\xb8\\x8b\\xe8\\xbc\\x89\\xe8\\xb3\\x87\\xe6\\x96\\x99\\xe3\\x80\\x82</li></ul>\\',\\n  \\'zh-Hans\\': \\'<p>2021 \\xe5\\xb9\\xb4 11 \\xe6\\x9c\\x88 1 \\xe6\\x97\\xa5\\xe8\\xb5\\xb7\\xef\\xbc\\x8c\\xe7\\x94\\xa8\\xe6\\x88\\xb7\\xe5\\xb0\\x86\\xe6\\x97\\xa0\\xe6\\xb3\\x95\\xe4\\xbb\\x8e\\xe4\\xb8\\xad\\xe5\\x9b\\xbd\\xe5\\xa4\\xa7\\xe9\\x99\\x86\\xe4\\xbd\\xbf\\xe7\\x94\\xa8 Yahoo \\xe7\\x9a\\x84\\xe4\\xba\\xa7\\xe5\\x93\\x81\\xe4\\xb8\\x8e\\xe6\\x9c\\x8d\\xe5\\x8a\\xa1\\xe3\\x80\\x82\\xe8\\xbf\\x99\\xe5\\xb9\\xb6\\xe4\\xb8\\x8d\\xe5\\xbd\\xb1\\xe5\\x93\\x8d Yahoo \\xe5\\x9c\\xa8\\xe5\\x85\\xa8\\xe7\\x90\\x83\\xe5\\x85\\xb6\\xe4\\xbb\\x96\\xe5\\x9c\\xb0\\xe6\\x96\\xb9\\xe7\\x9a\\x84\\xe4\\xba\\xa7\\xe5\\x93\\x81\\xe5\\x8f\\x8a\\xe6\\x9c\\x8d\\xe5\\x8a\\xa1\\xe3\\x80\\x82\\xe6\\x88\\x91\\xe4\\xbb\\xac\\xe6\\x84\\x9f\\xe8\\xb0\\xa2\\xe4\\xbd\\xa0\\xe4\\xb8\\x80\\xe7\\x9b\\xb4\\xe4\\xbb\\xa5\\xe4\\xbe\\x86\\xe7\\x9a\\x84\\xe6\\x94\\xaf\\xe6\\x8c\\x81\\xe3\\x80\\x82</p><ul><li>\\xe8\\xaf\\xb7<a href=\"https://mail.yahoo.com/\">\\xe6\\x8c\\x89\\xe6\\xad\\xa4</a>\\xe8\\xbf\\x9e\\xe6\\x8e\\xa5 Yahoo \\xe7\\x94\\xb5\\xe5\\xad\\x90\\xe4\\xbf\\xa1\\xe7\\xae\\xb1(\\xe6\\x88\\x96\\xe5\\x89\\xaa\\xe8\\xb4\\xb4\\xe7\\xbd\\x91\\xe5\\x9d\\x80 https://mail.yahoo.com/ \\xe5\\x88\\xb0\\xe6\\xb5\\x8f\\xe8\\xa7\\x88\\xe5\\x99\\xa8\\xef\\xbc\\x89</li><li>\\xe8\\xaf\\xb7<a href=\"https://mail.aol.com/\">\\xe6\\x8c\\x89\\xe6\\xad\\xa4</a>\\xe8\\xbf\\x9e\\xe6\\x8e\\xa5 AOL \\xe7\\x94\\xb5\\xe5\\xad\\x90\\xe4\\xbf\\xa1\\xe7\\xae\\xb1(\\xe6\\x88\\x96\\xe5\\x89\\xaa\\xe8\\xb4\\xb4\\xe7\\xbd\\x91\\xe5\\x9d\\x80 https://mail.aol.com/ \\xe5\\x88\\xb0\\xe6\\xb5\\x8f\\xe8\\xa7\\x88\\xe5\\x99\\xa8 \\xef\\xbc\\x89</li><li>\\xe8\\xaf\\xb7<a href=\"https://legal.yahoo.com/us/en/yahoo/privacy/dashboard/index.html\">\\xe6\\x8c\\x89\\xe6\\xad\\xa4</a>\\xe6\\xb5\\x8f\\xe8\\xa7\\x88\\xe4\\xbd\\xa0\\xe7\\x9a\\x84\\xe9\\x9a\\x90\\xe7\\xa7\\x81\\xe4\\xbb\\xaa\\xe8\\xa1\\xa8\\xe7\\x89\\x88\\xe6\\x88\\x96\\xe4\\xb8\\x8b\\xe8\\xbd\\xbd\\xe8\\xb5\\x84\\xe6\\x96\\x99\\xe3\\x80\\x82</li></ul>\\'\\n};\\n\\nconst message = document.querySelector(\\'#message\\');\\n\\nconst switchLang = function (lang) {\\n  message.innerHTML = Msg[lang] ? Msg[lang] : Msg.en;\\n  const oldE = document.querySelector(\\'#switcher .active\\');\\n\\tconst newE = document.querySelector(`#switcher a[data-lang=${lang}]`);\\n  oldE.className = \\'\\';\\n  newE.className = \\'active\\';\\n}\\n\\nconst detectLang = function() {\\n  const langs = window.navigator.languages ? window.navigator.languages : [window.navigator.language];\\n  const availableLangs = langs.map(l => l.toLowerCase()).filter(l => /^en/.test(l) || /^zh/.test(l));\\n  const selectedLang = availableLangs.length ? availableLangs[0] : \\'en\\';\\n  const prefLang =  /^en/.test(selectedLang) ? \\'en\\' :\\n      (selectedLang === \\'zh-tw\\' || selectedLang === \\'zh-hk\\') ? \\'zh-Hant\\' : \\'zh-Hans\\';\\n  switchLang(prefLang);\\n}\\n\\nconst switcher = document.querySelector(\\'#switcher\\');\\nswitcher.addEventListener(\\'click\\', (e) => {\\n  const lang = e.target.getAttribute(\\'data-lang\\');\\n  switchLang(lang);\\n});\\n\\ndetectLang();\\n\\n</script>\\n</body></html>\\n'",
     "output_type": "error",
     "traceback": [
      "\u001B[1;31m---------------------------------------------------------------------------\u001B[0m",
      "\u001B[1;31mRemoteDataError\u001B[0m                           Traceback (most recent call last)",
      "\u001B[1;32m~\\AppData\\Local\\Temp/ipykernel_8172/2649216443.py\u001B[0m in \u001B[0;36m<module>\u001B[1;34m\u001B[0m\n\u001B[0;32m      1\u001B[0m \u001B[0mstart\u001B[0m \u001B[1;33m=\u001B[0m \u001B[0mdt\u001B[0m\u001B[1;33m.\u001B[0m\u001B[0mdatetime\u001B[0m\u001B[1;33m(\u001B[0m\u001B[1;36m2017\u001B[0m\u001B[1;33m,\u001B[0m\u001B[1;36m1\u001B[0m\u001B[1;33m,\u001B[0m\u001B[1;36m1\u001B[0m\u001B[1;33m)\u001B[0m\u001B[1;31m#获取数据的时间段-起始时间\u001B[0m\u001B[1;33m\u001B[0m\u001B[1;33m\u001B[0m\u001B[0m\n\u001B[0;32m      2\u001B[0m \u001B[0mend\u001B[0m \u001B[1;33m=\u001B[0m \u001B[0mdt\u001B[0m\u001B[1;33m.\u001B[0m\u001B[0mdate\u001B[0m\u001B[1;33m.\u001B[0m\u001B[0mtoday\u001B[0m\u001B[1;33m(\u001B[0m\u001B[1;33m)\u001B[0m\u001B[1;31m#获取数据的时间段-结束时间\u001B[0m\u001B[1;33m\u001B[0m\u001B[1;33m\u001B[0m\u001B[0m\n\u001B[1;32m----> 3\u001B[1;33m \u001B[0mstock\u001B[0m \u001B[1;33m=\u001B[0m \u001B[0mweb\u001B[0m\u001B[1;33m.\u001B[0m\u001B[0mDataReader\u001B[0m\u001B[1;33m(\u001B[0m\u001B[1;34m\"600797.SS\"\u001B[0m\u001B[1;33m,\u001B[0m \u001B[1;34m\"yahoo\"\u001B[0m\u001B[1;33m,\u001B[0m \u001B[0mstart\u001B[0m\u001B[1;33m,\u001B[0m \u001B[0mend\u001B[0m\u001B[1;33m)\u001B[0m\u001B[1;31m#获取浙大网新2017年1月1日至今的股票数据\u001B[0m\u001B[1;33m\u001B[0m\u001B[1;33m\u001B[0m\u001B[0m\n\u001B[0m",
      "\u001B[1;32mC:\\ProgramData\\Anaconda3\\envs\\pythonNotes\\lib\\site-packages\\pandas\\util\\_decorators.py\u001B[0m in \u001B[0;36mwrapper\u001B[1;34m(*args, **kwargs)\u001B[0m\n\u001B[0;32m    205\u001B[0m                 \u001B[1;32melse\u001B[0m\u001B[1;33m:\u001B[0m\u001B[1;33m\u001B[0m\u001B[1;33m\u001B[0m\u001B[0m\n\u001B[0;32m    206\u001B[0m                     \u001B[0mkwargs\u001B[0m\u001B[1;33m[\u001B[0m\u001B[0mnew_arg_name\u001B[0m\u001B[1;33m]\u001B[0m \u001B[1;33m=\u001B[0m \u001B[0mnew_arg_value\u001B[0m\u001B[1;33m\u001B[0m\u001B[1;33m\u001B[0m\u001B[0m\n\u001B[1;32m--> 207\u001B[1;33m             \u001B[1;32mreturn\u001B[0m \u001B[0mfunc\u001B[0m\u001B[1;33m(\u001B[0m\u001B[1;33m*\u001B[0m\u001B[0margs\u001B[0m\u001B[1;33m,\u001B[0m \u001B[1;33m**\u001B[0m\u001B[0mkwargs\u001B[0m\u001B[1;33m)\u001B[0m\u001B[1;33m\u001B[0m\u001B[1;33m\u001B[0m\u001B[0m\n\u001B[0m\u001B[0;32m    208\u001B[0m \u001B[1;33m\u001B[0m\u001B[0m\n\u001B[0;32m    209\u001B[0m         \u001B[1;32mreturn\u001B[0m \u001B[0mcast\u001B[0m\u001B[1;33m(\u001B[0m\u001B[0mF\u001B[0m\u001B[1;33m,\u001B[0m \u001B[0mwrapper\u001B[0m\u001B[1;33m)\u001B[0m\u001B[1;33m\u001B[0m\u001B[1;33m\u001B[0m\u001B[0m\n",
      "\u001B[1;32mC:\\ProgramData\\Anaconda3\\envs\\pythonNotes\\lib\\site-packages\\pandas_datareader\\data.py\u001B[0m in \u001B[0;36mDataReader\u001B[1;34m(name, data_source, start, end, retry_count, pause, session, api_key)\u001B[0m\n\u001B[0;32m    368\u001B[0m \u001B[1;33m\u001B[0m\u001B[0m\n\u001B[0;32m    369\u001B[0m     \u001B[1;32mif\u001B[0m \u001B[0mdata_source\u001B[0m \u001B[1;33m==\u001B[0m \u001B[1;34m\"yahoo\"\u001B[0m\u001B[1;33m:\u001B[0m\u001B[1;33m\u001B[0m\u001B[1;33m\u001B[0m\u001B[0m\n\u001B[1;32m--> 370\u001B[1;33m         return YahooDailyReader(\n\u001B[0m\u001B[0;32m    371\u001B[0m             \u001B[0msymbols\u001B[0m\u001B[1;33m=\u001B[0m\u001B[0mname\u001B[0m\u001B[1;33m,\u001B[0m\u001B[1;33m\u001B[0m\u001B[1;33m\u001B[0m\u001B[0m\n\u001B[0;32m    372\u001B[0m             \u001B[0mstart\u001B[0m\u001B[1;33m=\u001B[0m\u001B[0mstart\u001B[0m\u001B[1;33m,\u001B[0m\u001B[1;33m\u001B[0m\u001B[1;33m\u001B[0m\u001B[0m\n",
      "\u001B[1;32mC:\\ProgramData\\Anaconda3\\envs\\pythonNotes\\lib\\site-packages\\pandas_datareader\\base.py\u001B[0m in \u001B[0;36mread\u001B[1;34m(self)\u001B[0m\n\u001B[0;32m    251\u001B[0m         \u001B[1;31m# If a single symbol, (e.g., 'GOOG')\u001B[0m\u001B[1;33m\u001B[0m\u001B[1;33m\u001B[0m\u001B[0m\n\u001B[0;32m    252\u001B[0m         \u001B[1;32mif\u001B[0m \u001B[0misinstance\u001B[0m\u001B[1;33m(\u001B[0m\u001B[0mself\u001B[0m\u001B[1;33m.\u001B[0m\u001B[0msymbols\u001B[0m\u001B[1;33m,\u001B[0m \u001B[1;33m(\u001B[0m\u001B[0mstring_types\u001B[0m\u001B[1;33m,\u001B[0m \u001B[0mint\u001B[0m\u001B[1;33m)\u001B[0m\u001B[1;33m)\u001B[0m\u001B[1;33m:\u001B[0m\u001B[1;33m\u001B[0m\u001B[1;33m\u001B[0m\u001B[0m\n\u001B[1;32m--> 253\u001B[1;33m             \u001B[0mdf\u001B[0m \u001B[1;33m=\u001B[0m \u001B[0mself\u001B[0m\u001B[1;33m.\u001B[0m\u001B[0m_read_one_data\u001B[0m\u001B[1;33m(\u001B[0m\u001B[0mself\u001B[0m\u001B[1;33m.\u001B[0m\u001B[0murl\u001B[0m\u001B[1;33m,\u001B[0m \u001B[0mparams\u001B[0m\u001B[1;33m=\u001B[0m\u001B[0mself\u001B[0m\u001B[1;33m.\u001B[0m\u001B[0m_get_params\u001B[0m\u001B[1;33m(\u001B[0m\u001B[0mself\u001B[0m\u001B[1;33m.\u001B[0m\u001B[0msymbols\u001B[0m\u001B[1;33m)\u001B[0m\u001B[1;33m)\u001B[0m\u001B[1;33m\u001B[0m\u001B[1;33m\u001B[0m\u001B[0m\n\u001B[0m\u001B[0;32m    254\u001B[0m         \u001B[1;31m# Or multiple symbols, (e.g., ['GOOG', 'AAPL', 'MSFT'])\u001B[0m\u001B[1;33m\u001B[0m\u001B[1;33m\u001B[0m\u001B[0m\n\u001B[0;32m    255\u001B[0m         \u001B[1;32melif\u001B[0m \u001B[0misinstance\u001B[0m\u001B[1;33m(\u001B[0m\u001B[0mself\u001B[0m\u001B[1;33m.\u001B[0m\u001B[0msymbols\u001B[0m\u001B[1;33m,\u001B[0m \u001B[0mDataFrame\u001B[0m\u001B[1;33m)\u001B[0m\u001B[1;33m:\u001B[0m\u001B[1;33m\u001B[0m\u001B[1;33m\u001B[0m\u001B[0m\n",
      "\u001B[1;32mC:\\ProgramData\\Anaconda3\\envs\\pythonNotes\\lib\\site-packages\\pandas_datareader\\yahoo\\daily.py\u001B[0m in \u001B[0;36m_read_one_data\u001B[1;34m(self, url, params)\u001B[0m\n\u001B[0;32m    147\u001B[0m         \u001B[0murl\u001B[0m \u001B[1;33m=\u001B[0m \u001B[0murl\u001B[0m\u001B[1;33m.\u001B[0m\u001B[0mformat\u001B[0m\u001B[1;33m(\u001B[0m\u001B[0msymbol\u001B[0m\u001B[1;33m)\u001B[0m\u001B[1;33m\u001B[0m\u001B[1;33m\u001B[0m\u001B[0m\n\u001B[0;32m    148\u001B[0m \u001B[1;33m\u001B[0m\u001B[0m\n\u001B[1;32m--> 149\u001B[1;33m         \u001B[0mresp\u001B[0m \u001B[1;33m=\u001B[0m \u001B[0mself\u001B[0m\u001B[1;33m.\u001B[0m\u001B[0m_get_response\u001B[0m\u001B[1;33m(\u001B[0m\u001B[0murl\u001B[0m\u001B[1;33m,\u001B[0m \u001B[0mparams\u001B[0m\u001B[1;33m=\u001B[0m\u001B[0mparams\u001B[0m\u001B[1;33m,\u001B[0m \u001B[0mheaders\u001B[0m\u001B[1;33m=\u001B[0m\u001B[0mself\u001B[0m\u001B[1;33m.\u001B[0m\u001B[0mheaders\u001B[0m\u001B[1;33m)\u001B[0m\u001B[1;33m\u001B[0m\u001B[1;33m\u001B[0m\u001B[0m\n\u001B[0m\u001B[0;32m    150\u001B[0m         \u001B[0mptrn\u001B[0m \u001B[1;33m=\u001B[0m \u001B[1;34mr\"root\\.App\\.main = (.*?);\\n}\\(this\\)\\);\"\u001B[0m\u001B[1;33m\u001B[0m\u001B[1;33m\u001B[0m\u001B[0m\n\u001B[0;32m    151\u001B[0m         \u001B[1;32mtry\u001B[0m\u001B[1;33m:\u001B[0m\u001B[1;33m\u001B[0m\u001B[1;33m\u001B[0m\u001B[0m\n",
      "\u001B[1;32mC:\\ProgramData\\Anaconda3\\envs\\pythonNotes\\lib\\site-packages\\pandas_datareader\\base.py\u001B[0m in \u001B[0;36m_get_response\u001B[1;34m(self, url, params, headers)\u001B[0m\n\u001B[0;32m    179\u001B[0m             \u001B[0mmsg\u001B[0m \u001B[1;33m+=\u001B[0m \u001B[1;34m\"\\nResponse Text:\\n{0}\"\u001B[0m\u001B[1;33m.\u001B[0m\u001B[0mformat\u001B[0m\u001B[1;33m(\u001B[0m\u001B[0mlast_response_text\u001B[0m\u001B[1;33m)\u001B[0m\u001B[1;33m\u001B[0m\u001B[1;33m\u001B[0m\u001B[0m\n\u001B[0;32m    180\u001B[0m \u001B[1;33m\u001B[0m\u001B[0m\n\u001B[1;32m--> 181\u001B[1;33m         \u001B[1;32mraise\u001B[0m \u001B[0mRemoteDataError\u001B[0m\u001B[1;33m(\u001B[0m\u001B[0mmsg\u001B[0m\u001B[1;33m)\u001B[0m\u001B[1;33m\u001B[0m\u001B[1;33m\u001B[0m\u001B[0m\n\u001B[0m\u001B[0;32m    182\u001B[0m \u001B[1;33m\u001B[0m\u001B[0m\n\u001B[0;32m    183\u001B[0m     \u001B[1;32mdef\u001B[0m \u001B[0m_get_crumb\u001B[0m\u001B[1;33m(\u001B[0m\u001B[0mself\u001B[0m\u001B[1;33m,\u001B[0m \u001B[1;33m*\u001B[0m\u001B[0margs\u001B[0m\u001B[1;33m)\u001B[0m\u001B[1;33m:\u001B[0m\u001B[1;33m\u001B[0m\u001B[1;33m\u001B[0m\u001B[0m\n",
      "\u001B[1;31mRemoteDataError\u001B[0m: Unable to read URL: https://finance.yahoo.com/quote/600797.SS/history?period1=1483214400&period2=1644091199&interval=1d&frequency=1d&filter=history\nResponse Text:\nb'<!DOCTYPE html>\\n<html lang=\"zh\">\\n<head>\\n    <meta charset=\"utf-8\">\\n    <title>Yahoo</title>\\n    <meta name=\"viewport\" content=\"width=device-width,initial-scale=1,minimal-ui\">\\n    <meta http-equiv=\"X-UA-Compatible\" content=\"IE=edge,chrome=1\">\\n    <style>\\nhtml {\\n  height: 100%;\\n}\\nbody {\\n  background: #fafafc url(https://s.yimg.com/nn/img/sad-panda-201402200631.png) 50% 50%;\\n  background-size: cover;\\n  height: 100%;\\n  text-align: center;\\n  font: 300 16px \"helvetica neue\", helvetica, verdana, tahoma, arial, sans-serif;\\n}\\n#message {\\n  text-align: left;\\n  font-weight: 400;\\n  color: #1A1A1A;\\n}\\n#message a {\\n  padding: 0 3px;\\n}\\n#container {\\n  position: absolute;\\n  top: 50%;\\n  left: 50%;\\n  padding: 0 30px;\\n  margin-right: -50%;\\n  transform: translate(-50%, -50%);\\n  max-width: 40em;\\n  _width: 40em;\\n}\\n#container img {\\n  width: 174px;\\n  height: auto;\\n}\\n#switcher a {\\n  font-weight: 400;\\n}\\n#switcher a.active {\\n  color: #000;\\n  text-decoration: none;\\n  cursor: default;\\n}\\n    </style>\\n</head>\\n<body>\\n  <div id=\"container\">\\n    <img src=\"https://s.yimg.com/rz/p/yahoo_homepage_en-US_s_f_p_bestfit_homepage_2x.png\" alt=\"Yahoo Logo\">\\n    <div id=\"switcher\">\\n      <a data-lang=\"en\" class=\"active\" href=\\'#\\'>English</a> |\\n      <a data-lang=\"zh-Hant\" href=\\'#\\'>\\xe7\\xb9\\x81\\xe9\\xab\\x94\\xe4\\xb8\\xad\\xe6\\x96\\x87</a> |\\n      <a data-lang=\"zh-Hans\" href=\\'#\\'>\\xe7\\xae\\x80\\xe4\\xbd\\x93\\xe4\\xb8\\xad\\xe6\\x96\\x87</a>\\n    </div>\\n    <div id=\"message\">\\n      <p>As of November 1st, 2021 Yahoo\\xe2\\x80\\x99s suite of services will no longer be accessible from mainland China. Yahoo products and services remain unaffected in all other global locations. We thank you for your support and readership.</p>\\n      <p>To access your Yahoo Mail account, please click <a href=\"https://mail.yahoo.com/\">here</a> (or copy and paste this URL into your browser: https://mail.yahoo.com/). To access your AOL Mail account, please click <a href=\"https://mail.aol.com/\">here</a> (or copy and paste this URL into your browser: https://mail.aol.com/). To access your Privacy Dashboard to download any data, please click <a href=\"https://legal.yahoo.com/us/en/yahoo/privacy/dashboard/index.html\">here</a>.</p>\\n    </div>\\n  </div>\\n<script>\\nconst Msg = {\\n  \\'en\\': \\'<p>As of November 1st, 2021 Yahoo\\xe2\\x80\\x99s suite of services will no longer be accessible from mainland China. Yahoo products and services remain unaffected in all other global locations. We thank you for your support and readership.</p><p>To access your Yahoo Mail account, please click <a href=\"https://mail.yahoo.com/\">here</a> (or copy and paste this URL into your browser: https://mail.yahoo.com/). To access your AOL Mail account, please click <a href=\"https://mail.aol.com/\">here</a> (or copy and paste this URL into your browser: https://mail.aol.com/). To access your Privacy Dashboard to download any data, please click <a href=\"https://legal.yahoo.com/us/en/yahoo/privacy/dashboard/index.html\">here</a>.</p>\\',\\n  \\'zh-Hant\\': \\'<p>2021 \\xe5\\xb9\\xb4 11 \\xe6\\x9c\\x88 1 \\xe6\\x97\\xa5\\xe8\\xb5\\xb7\\xef\\xbc\\x8c\\xe7\\x94\\xa8\\xe6\\x88\\xb6\\xe5\\xb0\\x87\\xe7\\x84\\xa1\\xe6\\xb3\\x95\\xe5\\xbe\\x9e\\xe4\\xb8\\xad\\xe5\\x9c\\x8b\\xe5\\xa4\\xa7\\xe9\\x99\\xb8\\xe4\\xbd\\xbf\\xe7\\x94\\xa8 Yahoo \\xe7\\x9a\\x84\\xe7\\x94\\xa2\\xe5\\x93\\x81\\xe8\\x88\\x87\\xe6\\x9c\\x8d\\xe5\\x8b\\x99\\xe3\\x80\\x82\\xe9\\x80\\x99\\xe4\\xb8\\xa6\\xe4\\xb8\\x8d\\xe5\\xbd\\xb1\\xe9\\x9f\\xbf Yahoo \\xe5\\x9c\\xa8\\xe5\\x85\\xa8\\xe7\\x90\\x83\\xe5\\x85\\xb6\\xe4\\xbb\\x96\\xe5\\x9c\\xb0\\xe6\\x96\\xb9\\xe7\\x9a\\x84\\xe7\\x94\\xa2\\xe5\\x93\\x81\\xe5\\x8f\\x8a\\xe6\\x9c\\x8d\\xe5\\x8b\\x99\\xe3\\x80\\x82\\xe6\\x88\\x91\\xe5\\x80\\x91\\xe6\\x84\\x9f\\xe8\\xac\\x9d\\xe6\\x82\\xa8\\xe4\\xb8\\x80\\xe7\\x9b\\xb4\\xe4\\xbb\\xa5\\xe4\\xbe\\x86\\xe7\\x9a\\x84\\xe6\\x94\\xaf\\xe6\\x8c\\x81\\xe3\\x80\\x82</p><ul><li>\\xe8\\xab\\x8b<a href=\"https://mail.yahoo.com/\">\\xe6\\x8c\\x89\\xe6\\xad\\xa4</a>\\xe9\\x80\\xa3\\xe6\\x8e\\xa5 Yahoo \\xe9\\x9b\\xbb\\xe5\\xad\\x90\\xe4\\xbf\\xa1\\xe7\\xae\\xb1(\\xe6\\x88\\x96\\xe5\\x89\\xaa\\xe8\\xb2\\xbc\\xe7\\xb6\\xb2\\xe5\\x9d\\x80 https://mail.yahoo.com/ \\xe5\\x88\\xb0\\xe7\\x80\\x8f\\xe8\\xa6\\xbd\\xe5\\x99\\xa8\\xef\\xbc\\x89</li><li>\\xe8\\xab\\x8b<a href=\"https://mail.aol.com/\">\\xe6\\x8c\\x89\\xe6\\xad\\xa4</a>\\xe9\\x80\\xa3\\xe6\\x8e\\xa5 AOL \\xe9\\x9b\\xbb\\xe5\\xad\\x90\\xe4\\xbf\\xa1\\xe7\\xae\\xb1(\\xe6\\x88\\x96\\xe5\\x89\\xaa\\xe8\\xb2\\xbc\\xe7\\xb6\\xb2\\xe5\\x9d\\x80 https://mail.aol.com/ \\xe5\\x88\\xb0\\xe7\\x80\\x8f\\xe8\\xa6\\xbd\\xe5\\x99\\xa8 \\xef\\xbc\\x89</li><li>\\xe8\\xab\\x8b<a href=\"https://legal.yahoo.com/us/en/yahoo/privacy/dashboard/index.html\">\\xe6\\x8c\\x89\\xe6\\xad\\xa4</a>\\xe9\\x80\\xa3\\xe6\\x8e\\xa5\\xe6\\x82\\xa8\\xe7\\x9a\\x84\\xe9\\x9a\\xb1\\xe7\\xa7\\x81\\xe5\\x84\\x80\\xe8\\xa1\\xa8\\xe7\\x89\\x88\\xe6\\x88\\x96\\xe4\\xb8\\x8b\\xe8\\xbc\\x89\\xe8\\xb3\\x87\\xe6\\x96\\x99\\xe3\\x80\\x82</li></ul>\\',\\n  \\'zh-Hans\\': \\'<p>2021 \\xe5\\xb9\\xb4 11 \\xe6\\x9c\\x88 1 \\xe6\\x97\\xa5\\xe8\\xb5\\xb7\\xef\\xbc\\x8c\\xe7\\x94\\xa8\\xe6\\x88\\xb7\\xe5\\xb0\\x86\\xe6\\x97\\xa0\\xe6\\xb3\\x95\\xe4\\xbb\\x8e\\xe4\\xb8\\xad\\xe5\\x9b\\xbd\\xe5\\xa4\\xa7\\xe9\\x99\\x86\\xe4\\xbd\\xbf\\xe7\\x94\\xa8 Yahoo \\xe7\\x9a\\x84\\xe4\\xba\\xa7\\xe5\\x93\\x81\\xe4\\xb8\\x8e\\xe6\\x9c\\x8d\\xe5\\x8a\\xa1\\xe3\\x80\\x82\\xe8\\xbf\\x99\\xe5\\xb9\\xb6\\xe4\\xb8\\x8d\\xe5\\xbd\\xb1\\xe5\\x93\\x8d Yahoo \\xe5\\x9c\\xa8\\xe5\\x85\\xa8\\xe7\\x90\\x83\\xe5\\x85\\xb6\\xe4\\xbb\\x96\\xe5\\x9c\\xb0\\xe6\\x96\\xb9\\xe7\\x9a\\x84\\xe4\\xba\\xa7\\xe5\\x93\\x81\\xe5\\x8f\\x8a\\xe6\\x9c\\x8d\\xe5\\x8a\\xa1\\xe3\\x80\\x82\\xe6\\x88\\x91\\xe4\\xbb\\xac\\xe6\\x84\\x9f\\xe8\\xb0\\xa2\\xe4\\xbd\\xa0\\xe4\\xb8\\x80\\xe7\\x9b\\xb4\\xe4\\xbb\\xa5\\xe4\\xbe\\x86\\xe7\\x9a\\x84\\xe6\\x94\\xaf\\xe6\\x8c\\x81\\xe3\\x80\\x82</p><ul><li>\\xe8\\xaf\\xb7<a href=\"https://mail.yahoo.com/\">\\xe6\\x8c\\x89\\xe6\\xad\\xa4</a>\\xe8\\xbf\\x9e\\xe6\\x8e\\xa5 Yahoo \\xe7\\x94\\xb5\\xe5\\xad\\x90\\xe4\\xbf\\xa1\\xe7\\xae\\xb1(\\xe6\\x88\\x96\\xe5\\x89\\xaa\\xe8\\xb4\\xb4\\xe7\\xbd\\x91\\xe5\\x9d\\x80 https://mail.yahoo.com/ \\xe5\\x88\\xb0\\xe6\\xb5\\x8f\\xe8\\xa7\\x88\\xe5\\x99\\xa8\\xef\\xbc\\x89</li><li>\\xe8\\xaf\\xb7<a href=\"https://mail.aol.com/\">\\xe6\\x8c\\x89\\xe6\\xad\\xa4</a>\\xe8\\xbf\\x9e\\xe6\\x8e\\xa5 AOL \\xe7\\x94\\xb5\\xe5\\xad\\x90\\xe4\\xbf\\xa1\\xe7\\xae\\xb1(\\xe6\\x88\\x96\\xe5\\x89\\xaa\\xe8\\xb4\\xb4\\xe7\\xbd\\x91\\xe5\\x9d\\x80 https://mail.aol.com/ \\xe5\\x88\\xb0\\xe6\\xb5\\x8f\\xe8\\xa7\\x88\\xe5\\x99\\xa8 \\xef\\xbc\\x89</li><li>\\xe8\\xaf\\xb7<a href=\"https://legal.yahoo.com/us/en/yahoo/privacy/dashboard/index.html\">\\xe6\\x8c\\x89\\xe6\\xad\\xa4</a>\\xe6\\xb5\\x8f\\xe8\\xa7\\x88\\xe4\\xbd\\xa0\\xe7\\x9a\\x84\\xe9\\x9a\\x90\\xe7\\xa7\\x81\\xe4\\xbb\\xaa\\xe8\\xa1\\xa8\\xe7\\x89\\x88\\xe6\\x88\\x96\\xe4\\xb8\\x8b\\xe8\\xbd\\xbd\\xe8\\xb5\\x84\\xe6\\x96\\x99\\xe3\\x80\\x82</li></ul>\\'\\n};\\n\\nconst message = document.querySelector(\\'#message\\');\\n\\nconst switchLang = function (lang) {\\n  message.innerHTML = Msg[lang] ? Msg[lang] : Msg.en;\\n  const oldE = document.querySelector(\\'#switcher .active\\');\\n\\tconst newE = document.querySelector(`#switcher a[data-lang=${lang}]`);\\n  oldE.className = \\'\\';\\n  newE.className = \\'active\\';\\n}\\n\\nconst detectLang = function() {\\n  const langs = window.navigator.languages ? window.navigator.languages : [window.navigator.language];\\n  const availableLangs = langs.map(l => l.toLowerCase()).filter(l => /^en/.test(l) || /^zh/.test(l));\\n  const selectedLang = availableLangs.length ? availableLangs[0] : \\'en\\';\\n  const prefLang =  /^en/.test(selectedLang) ? \\'en\\' :\\n      (selectedLang === \\'zh-tw\\' || selectedLang === \\'zh-hk\\') ? \\'zh-Hant\\' : \\'zh-Hans\\';\\n  switchLang(prefLang);\\n}\\n\\nconst switcher = document.querySelector(\\'#switcher\\');\\nswitcher.addEventListener(\\'click\\', (e) => {\\n  const lang = e.target.getAttribute(\\'data-lang\\');\\n  switchLang(lang);\\n});\\n\\ndetectLang();\\n\\n</script>\\n</body></html>\\n'"
     ]
    }
   ],
   "source": [],
   "metadata": {
    "collapsed": false,
    "pycharm": {
     "name": "#%%\n"
    }
   }
  }
 ],
 "metadata": {
  "kernelspec": {
   "display_name": "Python 3",
   "language": "python",
   "name": "python3"
  },
  "language_info": {
   "codemirror_mode": {
    "name": "ipython",
    "version": 2
   },
   "file_extension": ".py",
   "mimetype": "text/x-python",
   "name": "python",
   "nbconvert_exporter": "python",
   "pygments_lexer": "ipython2",
   "version": "2.7.6"
  }
 },
 "nbformat": 4,
 "nbformat_minor": 0
}