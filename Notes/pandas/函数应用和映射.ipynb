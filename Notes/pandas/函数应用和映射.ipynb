{
 "cells": [
  {
   "cell_type": "markdown",
   "metadata": {
    "collapsed": true,
    "pycharm": {
     "name": "#%% md\n"
    }
   },
   "source": [
    "### NumPy中的通用函数（逐元素数组方法）对pandas对象也有效"
   ]
  },
  {
   "cell_type": "code",
   "execution_count": 1,
   "outputs": [],
   "source": [
    "import pandas as pd\n",
    "import numpy as np"
   ],
   "metadata": {
    "collapsed": false,
    "pycharm": {
     "name": "#%%\n"
    }
   }
  },
  {
   "cell_type": "code",
   "execution_count": 3,
   "outputs": [
    {
     "name": "stdout",
     "output_type": "stream",
     "text": [
      "               b         d         e\n",
      "Utah   -0.733182  2.065104  1.342112\n",
      "Ohio    0.693093 -0.600856 -1.471940\n",
      "Texas   0.538751  0.102787  1.173020\n",
      "Oregon  1.514599 -0.632544 -0.926311\n"
     ]
    }
   ],
   "source": [
    "frame = pd.DataFrame(np.random.randn(4,3),columns=list('bde'),index=['Utah','Ohio','Texas','Oregon'])\n",
    "print(frame)"
   ],
   "metadata": {
    "collapsed": false,
    "pycharm": {
     "name": "#%%\n"
    }
   }
  },
  {
   "cell_type": "code",
   "execution_count": 4,
   "outputs": [
    {
     "name": "stdout",
     "output_type": "stream",
     "text": [
      "               b         d         e\n",
      "Utah    0.733182  2.065104  1.342112\n",
      "Ohio    0.693093  0.600856  1.471940\n",
      "Texas   0.538751  0.102787  1.173020\n",
      "Oregon  1.514599  0.632544  0.926311\n"
     ]
    }
   ],
   "source": [
    "print(np.abs(frame))"
   ],
   "metadata": {
    "collapsed": false,
    "pycharm": {
     "name": "#%%\n"
    }
   }
  },
  {
   "cell_type": "markdown",
   "source": [
    "### apply方法"
   ],
   "metadata": {
    "collapsed": false,
    "pycharm": {
     "name": "#%% md\n"
    }
   }
  },
  {
   "cell_type": "code",
   "execution_count": 5,
   "outputs": [
    {
     "name": "stdout",
     "output_type": "stream",
     "text": [
      "b    2.247781\n",
      "d    2.697647\n",
      "e    2.814052\n",
      "dtype: float64\n"
     ]
    }
   ],
   "source": [
    "f = lambda x: x.max() - x.min()\n",
    "\n",
    "result = frame.apply(f)\n",
    "print(result)"
   ],
   "metadata": {
    "collapsed": false,
    "pycharm": {
     "name": "#%%\n"
    }
   }
  },
  {
   "cell_type": "markdown",
   "source": [
    "默认计算的是每一列的结果，若要计算每一行的结果，须显式指定"
   ],
   "metadata": {
    "collapsed": false,
    "pycharm": {
     "name": "#%% md\n"
    }
   }
  },
  {
   "cell_type": "code",
   "execution_count": 7,
   "outputs": [
    {
     "name": "stdout",
     "output_type": "stream",
     "text": [
      "Utah      2.798285\n",
      "Ohio      2.165033\n",
      "Texas     1.070233\n",
      "Oregon    2.440911\n",
      "dtype: float64\n"
     ]
    }
   ],
   "source": [
    "result = frame.apply(f,axis='columns')\n",
    "print(result)"
   ],
   "metadata": {
    "collapsed": false,
    "pycharm": {
     "name": "#%%\n"
    }
   }
  },
  {
   "cell_type": "markdown",
   "source": [
    "f也可以返回带有多个值的Series"
   ],
   "metadata": {
    "collapsed": false,
    "pycharm": {
     "name": "#%% md\n"
    }
   }
  },
  {
   "cell_type": "code",
   "execution_count": 8,
   "outputs": [
    {
     "name": "stdout",
     "output_type": "stream",
     "text": [
      "            b         d         e\n",
      "min -0.733182 -0.632544 -1.471940\n",
      "max  1.514599  2.065104  1.342112\n"
     ]
    }
   ],
   "source": [
    "def f(x):\n",
    "    return pd.Series([x.min(),x.max()], index = ['min','max'])\n",
    "\n",
    "result = frame.apply(f)\n",
    "print(result)"
   ],
   "metadata": {
    "collapsed": false,
    "pycharm": {
     "name": "#%%\n"
    }
   }
  },
  {
   "cell_type": "markdown",
   "source": [
    "### applymap方法\n",
    "+ 只允许传入一个参数的函数作为map方法的参数"
   ],
   "metadata": {
    "collapsed": false,
    "pycharm": {
     "name": "#%% md\n"
    }
   }
  },
  {
   "cell_type": "code",
   "execution_count": 9,
   "outputs": [
    {
     "name": "stdout",
     "output_type": "stream",
     "text": [
      "            b      d      e\n",
      "Utah    -0.73   2.07   1.34\n",
      "Ohio     0.69  -0.60  -1.47\n",
      "Texas    0.54   0.10   1.17\n",
      "Oregon   1.51  -0.63  -0.93\n"
     ]
    }
   ],
   "source": [
    "format = lambda x: '%.2f' %x\n",
    "\n",
    "print(frame.applymap(format))"
   ],
   "metadata": {
    "collapsed": false,
    "pycharm": {
     "name": "#%%\n"
    }
   }
  },
  {
   "cell_type": "markdown",
   "source": [
    "### Series的map方法\n",
    "+ 只允许传入一个参数的函数作为map方法的参数"
   ],
   "metadata": {
    "collapsed": false,
    "pycharm": {
     "name": "#%% md\n"
    }
   }
  },
  {
   "cell_type": "code",
   "execution_count": 11,
   "outputs": [
    {
     "name": "stdout",
     "output_type": "stream",
     "text": [
      "Utah       1.34\n",
      "Ohio      -1.47\n",
      "Texas      1.17\n",
      "Oregon    -0.93\n",
      "Name: e, dtype: object\n"
     ]
    }
   ],
   "source": [
    "print(frame['e'].map(format))"
   ],
   "metadata": {
    "collapsed": false,
    "pycharm": {
     "name": "#%%\n"
    }
   }
  },
  {
   "cell_type": "markdown",
   "source": [
    "### 总结\n",
    "1. Series的map方法\n",
    "+ 将Series中的每个单元格依次使用指定函数\n",
    "+ map使用的函数只能有一个参数x\n",
    "\n",
    "2. Series的apply和DataFrame的apply方法\n",
    "+ Series的apply可以使用带多个参数的函数\n",
    "+ DataFrame的apply可以使用带多个参数的函数\n",
    "+ DataFrame使用apply方法时的默认参数为Series\n",
    "\n",
    "3. DataFrame的applymap方法\n",
    "+ 逐元素\n",
    "+ 只能有一个参数\n",
    "\n",
    "[Pandas教程 | 数据处理三板斧——map、apply、applymap详解](https://zhuanlan.zhihu.com/p/100064394)"
   ],
   "metadata": {
    "collapsed": false,
    "pycharm": {
     "name": "#%% md\n"
    }
   }
  }
 ],
 "metadata": {
  "kernelspec": {
   "display_name": "Python 3",
   "language": "python",
   "name": "python3"
  },
  "language_info": {
   "codemirror_mode": {
    "name": "ipython",
    "version": 2
   },
   "file_extension": ".py",
   "mimetype": "text/x-python",
   "name": "python",
   "nbconvert_exporter": "python",
   "pygments_lexer": "ipython2",
   "version": "2.7.6"
  }
 },
 "nbformat": 4,
 "nbformat_minor": 0
}