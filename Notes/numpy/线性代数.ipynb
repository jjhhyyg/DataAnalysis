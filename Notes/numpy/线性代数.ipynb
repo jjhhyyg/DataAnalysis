{
 "cells": [
  {
   "cell_type": "markdown",
   "metadata": {
    "collapsed": true,
    "pycharm": {
     "name": "#%% md\n"
    }
   },
   "source": [
    "numpy中的*表示的是矩阵的逐元素乘积，要进行矩阵点乘需用到dot方法"
   ],
   "execution_count": 0
  },
  {
   "cell_type": "code",
   "execution_count": 2,
   "outputs": [],
   "source": [
    "import numpy as np"
   ],
   "metadata": {
    "collapsed": false,
    "pycharm": {
     "name": "#%%\n"
    }
   }
  },
  {
   "cell_type": "code",
   "execution_count": 3,
   "outputs": [
    {
     "name": "stdout",
     "output_type": "stream",
     "text": [
      "[[1 2 3]\n",
      " [4 5 6]]\n",
      "[[ 6 23]\n",
      " [-1  7]\n",
      " [ 8  9]]\n"
     ]
    }
   ],
   "source": [
    "x = np.array([[1,2,3],[4,5,6]])\n",
    "y = np.array([[6,23],[-1,7],[8,9]])\n",
    "print(x)\n",
    "print(y)"
   ],
   "metadata": {
    "collapsed": false,
    "pycharm": {
     "name": "#%%\n"
    }
   }
  },
  {
   "cell_type": "code",
   "execution_count": 4,
   "outputs": [
    {
     "name": "stdout",
     "output_type": "stream",
     "text": [
      "[[ 28  64]\n",
      " [ 67 181]]\n"
     ]
    }
   ],
   "source": [
    "# 法1\n",
    "res = x.dot(y)\n",
    "print(res)"
   ],
   "metadata": {
    "collapsed": false,
    "pycharm": {
     "name": "#%%\n"
    }
   }
  },
  {
   "cell_type": "code",
   "execution_count": 5,
   "outputs": [
    {
     "name": "stdout",
     "output_type": "stream",
     "text": [
      "[[ 28  64]\n",
      " [ 67 181]]\n"
     ]
    }
   ],
   "source": [
    "# 法2\n",
    "res = np.dot(x,y)\n",
    "print(res)"
   ],
   "metadata": {
    "collapsed": false,
    "pycharm": {
     "name": "#%%\n"
    }
   }
  },
  {
   "cell_type": "code",
   "execution_count": 6,
   "outputs": [
    {
     "name": "stdout",
     "output_type": "stream",
     "text": [
      "[[ 28  64]\n",
      " [ 67 181]]\n"
     ]
    }
   ],
   "source": [
    "# 法3\n",
    "res = x @ y\n",
    "print(res)"
   ],
   "metadata": {
    "collapsed": false,
    "pycharm": {
     "name": "#%%\n"
    }
   }
  },
  {
   "cell_type": "markdown",
   "source": [
    "### numpy.linalg"
   ],
   "metadata": {
    "collapsed": false,
    "pycharm": {
     "name": "#%% md\n"
    }
   }
  },
  {
   "cell_type": "code",
   "execution_count": 7,
   "outputs": [],
   "source": [
    "from numpy.linalg import inv, qr"
   ],
   "metadata": {
    "collapsed": false,
    "pycharm": {
     "name": "#%%\n"
    }
   }
  },
  {
   "cell_type": "code",
   "execution_count": 8,
   "outputs": [
    {
     "name": "stdout",
     "output_type": "stream",
     "text": [
      "[[-0.60295435  0.52737423  0.29564464 -1.26746161  0.64594783]\n",
      " [ 0.39378153  0.84987037  0.09829363  1.10874571 -0.81147179]\n",
      " [ 0.04875389  1.45708526 -0.25228942 -0.44458711 -0.53608224]\n",
      " [ 0.93117087 -0.21124316  0.43908342  0.39844376  1.56594009]\n",
      " [ 0.35601025 -0.14614434 -0.6481696   0.67087514 -0.29166879]]\n"
     ]
    }
   ],
   "source": [
    "X = np.random.randn(5,5)\n",
    "print(X)"
   ],
   "metadata": {
    "collapsed": false,
    "pycharm": {
     "name": "#%%\n"
    }
   }
  },
  {
   "cell_type": "code",
   "execution_count": 9,
   "outputs": [
    {
     "name": "stdout",
     "output_type": "stream",
     "text": [
      "[[ 1.51481726 -0.16101312  0.02625258  1.78900737  0.61916497]\n",
      " [-0.16101312  3.18948253 -0.12618203 -0.55615091 -1.41827551]\n",
      " [ 0.02625258 -0.12618203  0.77363542 -0.41346179  1.12308556]\n",
      " [ 1.78900737 -0.55615091 -0.41346179  3.64226458 -1.05182897]\n",
      " [ 0.61916497 -1.41827551  1.12308556 -1.05182897  3.90035827]]\n"
     ]
    }
   ],
   "source": [
    "# 矩阵求逆\n",
    "mat = X.T.dot(X)\n",
    "print(mat)"
   ],
   "metadata": {
    "collapsed": false,
    "pycharm": {
     "name": "#%%\n"
    }
   }
  },
  {
   "cell_type": "code",
   "execution_count": 23,
   "outputs": [
    {
     "name": "stdout",
     "output_type": "stream",
     "text": [
      "[[ 1.00000000e+00  3.48297921e-16 -1.63229395e-16  2.71665979e-15\n",
      "   8.92136682e-16]\n",
      " [ 1.05506211e-15  1.00000000e+00 -5.58344752e-16 -1.45582980e-15\n",
      "  -1.89906542e-15]\n",
      " [-1.39057837e-15 -1.15879973e-16  1.00000000e+00 -1.68179781e-15\n",
      "  -1.80670319e-15]\n",
      " [ 2.60504819e-15  6.20671770e-16 -1.05736103e-15  1.00000000e+00\n",
      "   8.83530434e-16]\n",
      " [-1.98407590e-15 -8.62342602e-16  1.58167291e-15 -1.24504730e-15\n",
      "   1.00000000e+00]]\n"
     ]
    }
   ],
   "source": [
    "# XT * X * XT * X\n",
    "res = mat.dot(inv(mat))\n",
    "print(res)"
   ],
   "metadata": {
    "collapsed": false,
    "pycharm": {
     "name": "#%%\n"
    }
   }
  },
  {
   "cell_type": "code",
   "execution_count": 31,
   "outputs": [
    {
     "name": "stdout",
     "output_type": "stream",
     "text": [
      "[[ 1.  0. -0.  0.  0.]\n",
      " [ 0.  1. -0. -0. -0.]\n",
      " [-0. -0.  1. -0. -0.]\n",
      " [ 0.  0. -0.  1.  0.]\n",
      " [-0. -0.  0. -0.  1.]]\n"
     ]
    }
   ],
   "source": [
    "# 保留几位小数\n",
    "print(np.around(res,decimals=1))"
   ],
   "metadata": {
    "collapsed": false,
    "pycharm": {
     "name": "#%%\n"
    }
   }
  },
  {
   "cell_type": "code",
   "execution_count": 11,
   "outputs": [],
   "source": [],
   "metadata": {
    "collapsed": false,
    "pycharm": {
     "name": "#%%\n"
    }
   }
  }
 ],
 "metadata": {
  "kernelspec": {
   "display_name": "Python 3",
   "language": "python",
   "name": "python3"
  },
  "language_info": {
   "codemirror_mode": {
    "name": "ipython",
    "version": 2
   },
   "file_extension": ".py",
   "mimetype": "text/x-python",
   "name": "python",
   "nbconvert_exporter": "python",
   "pygments_lexer": "ipython2",
   "version": "2.7.6"
  }
 },
 "nbformat": 4,
 "nbformat_minor": 0
}