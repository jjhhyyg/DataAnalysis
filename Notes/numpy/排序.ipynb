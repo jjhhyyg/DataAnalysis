{
 "cells": [
  {
   "cell_type": "code",
   "execution_count": 1,
   "metadata": {
    "collapsed": true
   },
   "outputs": [],
   "source": [
    "import numpy as np"
   ]
  },
  {
   "cell_type": "markdown",
   "source": [
    "sort 方法"
   ],
   "metadata": {
    "collapsed": false,
    "pycharm": {
     "name": "#%% md\n"
    }
   }
  },
  {
   "cell_type": "code",
   "execution_count": 2,
   "outputs": [
    {
     "name": "stdout",
     "output_type": "stream",
     "text": [
      "[ 0.12851733 -1.75120592 -2.20902163 -0.086358    0.97127951  0.0960556 ]\n"
     ]
    }
   ],
   "source": [
    "arr = np.random.randn(6)\n",
    "print(arr)"
   ],
   "metadata": {
    "collapsed": false,
    "pycharm": {
     "name": "#%%\n"
    }
   }
  },
  {
   "cell_type": "markdown",
   "source": [
    "np.sort方法返回的是已经排序好的数组拷贝"
   ],
   "metadata": {
    "collapsed": false
   }
  },
  {
   "cell_type": "code",
   "execution_count": 7,
   "outputs": [
    {
     "name": "stdout",
     "output_type": "stream",
     "text": [
      "<class 'NoneType'>\n",
      "<class 'numpy.ndarray'>\n",
      "[-2.20902163 -1.75120592 -0.086358    0.0960556   0.12851733  0.97127951]\n"
     ]
    }
   ],
   "source": [
    "print(type(arr.sort()))\n",
    "print(type(np.sort(arr)))\n",
    "print(arr)"
   ],
   "metadata": {
    "collapsed": false,
    "pycharm": {
     "name": "#%%\n"
    }
   }
  },
  {
   "cell_type": "markdown",
   "source": [
    "在多维数组中根据传递的axis值，沿着轴向对每个一维数据段进行排序"
   ],
   "metadata": {
    "collapsed": false,
    "pycharm": {
     "name": "#%% md\n"
    }
   }
  },
  {
   "cell_type": "code",
   "execution_count": 10,
   "outputs": [
    {
     "name": "stdout",
     "output_type": "stream",
     "text": [
      "[[ 2.21201276 -1.24353831  0.92569029]\n",
      " [-0.4700942  -0.47650212  0.68487028]\n",
      " [-2.07914325  1.64648223 -1.69322791]\n",
      " [-0.67121995  2.30875836 -1.20013654]\n",
      " [ 0.92395928  1.26517168 -0.12540385]]\n"
     ]
    }
   ],
   "source": [
    "arr = np.random.randn(5,3)\n",
    "print(arr)"
   ],
   "metadata": {
    "collapsed": false,
    "pycharm": {
     "name": "#%%\n"
    }
   }
  },
  {
   "cell_type": "code",
   "execution_count": 11,
   "outputs": [
    {
     "name": "stdout",
     "output_type": "stream",
     "text": [
      "[[-1.24353831  0.92569029  2.21201276]\n",
      " [-0.47650212 -0.4700942   0.68487028]\n",
      " [-2.07914325 -1.69322791  1.64648223]\n",
      " [-1.20013654 -0.67121995  2.30875836]\n",
      " [-0.12540385  0.92395928  1.26517168]]\n"
     ]
    }
   ],
   "source": [
    "arr.sort(1)\n",
    "print(arr)"
   ],
   "metadata": {
    "collapsed": false,
    "pycharm": {
     "name": "#%%\n"
    }
   }
  },
  {
   "cell_type": "code",
   "execution_count": 12,
   "outputs": [
    {
     "name": "stdout",
     "output_type": "stream",
     "text": [
      "[[-2.07914325 -1.69322791  0.68487028]\n",
      " [-1.24353831 -0.67121995  1.26517168]\n",
      " [-1.20013654 -0.4700942   1.64648223]\n",
      " [-0.47650212  0.92395928  2.21201276]\n",
      " [-0.12540385  0.92569029  2.30875836]]\n"
     ]
    }
   ],
   "source": [
    "arr.sort(0)\n",
    "print(arr)"
   ],
   "metadata": {
    "collapsed": false,
    "pycharm": {
     "name": "#%%\n"
    }
   }
  },
  {
   "cell_type": "code",
   "execution_count": null,
   "outputs": [],
   "source": [],
   "metadata": {
    "collapsed": false,
    "pycharm": {
     "name": "#%%\n"
    }
   }
  }
 ],
 "metadata": {
  "kernelspec": {
   "display_name": "Python 3",
   "language": "python",
   "name": "python3"
  },
  "language_info": {
   "codemirror_mode": {
    "name": "ipython",
    "version": 2
   },
   "file_extension": ".py",
   "mimetype": "text/x-python",
   "name": "python",
   "nbconvert_exporter": "python",
   "pygments_lexer": "ipython2",
   "version": "2.7.6"
  }
 },
 "nbformat": 4,
 "nbformat_minor": 0
}